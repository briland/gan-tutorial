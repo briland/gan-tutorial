{
  "nbformat": 4,
  "nbformat_minor": 0,
  "metadata": {
    "colab": {
      "name": "playing_with_GANs.ipynb",
      "provenance": [],
      "collapsed_sections": [],
      "toc_visible": true,
      "authorship_tag": "ABX9TyPXLwCQmPjtQy6fWmCeQ698",
      "include_colab_link": true
    },
    "kernelspec": {
      "name": "python3",
      "display_name": "Python 3"
    },
    "language_info": {
      "name": "python"
    }
  },
  "cells": [
    {
      "cell_type": "markdown",
      "metadata": {
        "id": "view-in-github",
        "colab_type": "text"
      },
      "source": [
        "<a href=\"https://colab.research.google.com/github/briland/gan-tutorial/blob/main/playing_with_GANs.ipynb\" target=\"_parent\"><img src=\"https://colab.research.google.com/assets/colab-badge.svg\" alt=\"Open In Colab\"/></a>"
      ]
    },
    {
      "cell_type": "markdown",
      "source": [
        "# &#129504; A Brief Introduction to Generative Adversarial Networks, a.k.a. `GANs`"
      ],
      "metadata": {
        "id": "AdJeqnvsoFbf"
      }
    },
    {
      "cell_type": "markdown",
      "source": [
        "## &#9776; Import the necessary libraries"
      ],
      "metadata": {
        "id": "jvnuA3qpo1-C"
      }
    },
    {
      "cell_type": "code",
      "execution_count": 1,
      "metadata": {
        "id": "uP37XT7Lnqs0"
      },
      "outputs": [],
      "source": [
        "import os\n",
        "import sys\n",
        "import torch\n",
        "import numpy as np\n",
        "import pandas as pd\n",
        "import torchvision\n",
        "import matplotlib.pyplot as plt\n",
        "import warnings"
      ]
    },
    {
      "cell_type": "markdown",
      "source": [
        "## &#9997; Some configuration"
      ],
      "metadata": {
        "id": "s9g2oBpCp0ck"
      }
    },
    {
      "cell_type": "code",
      "source": [
        "warnings.filterwarnings('ignore')"
      ],
      "metadata": {
        "id": "TWleh2T8psUT"
      },
      "execution_count": 2,
      "outputs": []
    },
    {
      "cell_type": "code",
      "source": [
        "torch.manual_seed(100)\n",
        "device = torch.device('cuda' if torch.cuda.is_available() else 'cpu')\n",
        "device"
      ],
      "metadata": {
        "colab": {
          "base_uri": "https://localhost:8080/"
        },
        "id": "ENOgeIwpqDLn",
        "outputId": "790ab52d-1a6b-4a99-8713-e741b1cc177f"
      },
      "execution_count": 3,
      "outputs": [
        {
          "output_type": "execute_result",
          "data": {
            "text/plain": [
              "device(type='cpu')"
            ]
          },
          "metadata": {},
          "execution_count": 3
        }
      ]
    },
    {
      "cell_type": "code",
      "source": [
        "%matplotlib inline\n",
        "%config InlineBackend.figure_format='retina'"
      ],
      "metadata": {
        "id": "aOBfuVNuqHI6"
      },
      "execution_count": 4,
      "outputs": []
    },
    {
      "cell_type": "markdown",
      "source": [
        "## References and Resources\n",
        "\n",
        "1. Pytorch GAN Zoo, Facebook Research, see [HERE](https://github.com/facebookresearch/pytorch_GAN_zoo)\n",
        "2. GANpaint, see [HERE](https://ganpaint.io/)"
      ],
      "metadata": {
        "id": "QZID626jwX13"
      }
    }
  ]
}